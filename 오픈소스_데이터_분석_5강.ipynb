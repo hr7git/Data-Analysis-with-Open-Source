{
  "nbformat": 4,
  "nbformat_minor": 0,
  "metadata": {
    "colab": {
      "provenance": [],
      "include_colab_link": true
    },
    "kernelspec": {
      "name": "python3",
      "display_name": "Python 3"
    },
    "language_info": {
      "name": "python"
    }
  },
  "cells": [
    {
      "cell_type": "markdown",
      "metadata": {
        "id": "view-in-github",
        "colab_type": "text"
      },
      "source": [
        "<a href=\"https://colab.research.google.com/github/hr7git/Data-Analysis-with-Open-Source/blob/main/%EC%98%A4%ED%94%88%EC%86%8C%EC%8A%A4_%EB%8D%B0%EC%9D%B4%ED%84%B0_%EB%B6%84%EC%84%9D_5%EA%B0%95.ipynb\" target=\"_parent\"><img src=\"https://colab.research.google.com/assets/colab-badge.svg\" alt=\"Open In Colab\"/></a>"
      ]
    },
    {
      "cell_type": "markdown",
      "source": [
        "# 오픈소스 기반 데이터 분석 5강 - 데이터 저장"
      ],
      "metadata": {
        "id": "O4kC4JMknVnK"
      }
    },
    {
      "cell_type": "markdown",
      "source": [
        "## 5-1 CSV 형식 저장"
      ],
      "metadata": {
        "id": "8DfV0cZLqj_s"
      }
    },
    {
      "cell_type": "code",
      "source": [
        "import pandas as pd\n",
        "\n",
        "data = {\n",
        "    'student_id': [101, 102, 103, 104, 105],\n",
        "    'database_score': [85, 76, 92, 63, 88],\n",
        "    'cloudcomputing_score': [78, 82, 95, 70, 84],\n",
        "    'python_score': [92, 78, 85, 75, 91],\n",
        "    'watch_rate': [0.95, 0.87, 0.99, 0.80, 0.93]\n",
        "}\n",
        "## DataFrame 생성\n",
        "df = pd.DataFrame(data)\n",
        "\n",
        "## CSV 형식 저장\n",
        "df.to_csv('student_analysis.csv', encoding = 'utf-8', index = False)\n",
        "\n",
        "\n",
        "\n"
      ],
      "metadata": {
        "id": "DztLRI9gW2lk"
      },
      "execution_count": null,
      "outputs": []
    },
    {
      "cell_type": "markdown",
      "source": [
        "## 5-2 JSON 형식 저장"
      ],
      "metadata": {
        "id": "CSABzaf3q8XU"
      }
    },
    {
      "cell_type": "code",
      "source": [
        "### 라이브러리 임포트\n",
        "import json\n",
        "import pandas as pd\n",
        "\n",
        "data = {\n",
        "    \"이름\": \"홍길동\",\n",
        "    \"나이\": 25,\n",
        "    \"거주지\": \"서울\",\n",
        "    \"관심사\": [\"프로그래밍\", \"데이터 분석\", \"여행\"]\n",
        "}\n",
        "\n",
        "## json.dump를 이용한 저장\n",
        "with open('output.json', mode='w', encoding = 'utf-8')as f:\n",
        "    json.dump(data, f, indent = 4, ensure_ascii=False)\n",
        "## DataFrame을 이용한 저장\n",
        "df = pd.DataFrame([data])\n",
        "df.to_json('output_df.json', orient='records', indent=4, force_ascii=False)\n",
        "\n",
        "\n"
      ],
      "metadata": {
        "id": "7bAgRpizW7Vj"
      },
      "execution_count": null,
      "outputs": []
    },
    {
      "cell_type": "markdown",
      "source": [
        "## 5-3 Pandas Dataframe 데이터 추출"
      ],
      "metadata": {
        "id": "NMlsQDHtrA_x"
      }
    },
    {
      "cell_type": "code",
      "source": [
        "import pandas as pd\n",
        "\n",
        "data = {\n",
        "    \"이름\": [\"김철수\", \"이영희\", \"박민수\", \"최지훈\", \"정소희\"],\n",
        "    \"학년\": [1, 2, 3, 4, 2],\n",
        "    \"학점\": [4.2, 3.8, 4.5, 3.9, 3.5],\n",
        "    \"학과\": [\"컴퓨터학\", \"경영학\", \"농학\", \"교육학\", \"영어영문학\"],\n",
        "    \"동아리\": [\"프로그래밍\", \"독서토론\", \"로봇공학\", \"봉사활동\", \"음악감상\"]\n",
        "}\n",
        "df = pd.DataFrame(data)\n",
        "df\n",
        "\n",
        "## DataFrame 인덱스 출력\n",
        "print(df.index)\n",
        "## DataFrame 컬럼 출력\n",
        "print(df.columns)\n",
        "## DataFrame 행 출력\n",
        "print(df.values.tolist())\n",
        "print(df.values)\n",
        "## DataFrame 값 출력\n",
        "print(df.values.flatten())"
      ],
      "metadata": {
        "id": "dk3xneVAW9_g",
        "colab": {
          "base_uri": "https://localhost:8080/"
        },
        "outputId": "7685841f-738a-4829-ad04-5ddbfac6ea9f"
      },
      "execution_count": null,
      "outputs": [
        {
          "output_type": "stream",
          "name": "stdout",
          "text": [
            "RangeIndex(start=0, stop=5, step=1)\n",
            "Index(['이름', '학년', '학점', '학과', '동아리'], dtype='object')\n",
            "[['김철수', 1, 4.2, '컴퓨터학', '프로그래밍'], ['이영희', 2, 3.8, '경영학', '독서토론'], ['박민수', 3, 4.5, '농학', '로봇공학'], ['최지훈', 4, 3.9, '교육학', '봉사활동'], ['정소희', 2, 3.5, '영어영문학', '음악감상']]\n",
            "['김철수' 1 4.2 '컴퓨터학' '프로그래밍' '이영희' 2 3.8 '경영학' '독서토론' '박민수' 3 4.5 '농학'\n",
            " '로봇공학' '최지훈' 4 3.9 '교육학' '봉사활동' '정소희' 2 3.5 '영어영문학' '음악감상']\n"
          ]
        }
      ]
    },
    {
      "cell_type": "markdown",
      "source": [
        "## 5-4 DataFrame 생성 방법"
      ],
      "metadata": {
        "id": "ILJd1GLoseqm"
      }
    },
    {
      "cell_type": "markdown",
      "source": [],
      "metadata": {
        "id": "i_ZLaHiWmd6a"
      }
    },
    {
      "cell_type": "code",
      "source": [
        "import pandas as pd\n",
        "import json\n",
        "\n",
        "data = {\n",
        "    \"이름\": [\"김철수\", \"이영희\", \"박민수\", \"최지훈\", \"정소희\"],\n",
        "    \"학년\": [1, 2, 3, 4, 2],\n",
        "    \"학점\": [4.2, 3.8, 4.5, 3.9, 3.5],\n",
        "    \"학과\": [\"컴퓨터공학\", \"경영학\", \"전자공학\", \"의학\", \"심리학\"],\n",
        "    \"동아리\": [\"프로그래밍\", \"독서토론\", \"로봇공학\", \"봉사활동\", \"음악감상\"]\n",
        "}\n",
        "\n",
        "## 딕셔너리, csv, json으로 부터 DataFrame 생성\n",
        "df1=pd.DataFrame.from_dict(data)\n",
        "df2=pd.read_csv('students.csv')\n",
        "df3=pd.read_json('students.json')\n",
        "## 세가지 방법 결과 비교\n",
        "print(df1.shape)\n",
        "print(df2.shape)\n",
        "print(df3.shape)\n",
        "\n",
        "\n"
      ],
      "metadata": {
        "id": "ISnPLEgNXAmi",
        "colab": {
          "base_uri": "https://localhost:8080/"
        },
        "outputId": "65c9804b-3c72-461f-db82-13ee01eb2b2d"
      },
      "execution_count": null,
      "outputs": [
        {
          "output_type": "stream",
          "name": "stdout",
          "text": [
            "(5, 5)\n",
            "(5, 5)\n",
            "(5, 5)\n"
          ]
        }
      ]
    },
    {
      "cell_type": "markdown",
      "source": [
        "## 5-5 DataFrame 저장 방법"
      ],
      "metadata": {
        "id": "z1N6lAnwsdyU"
      }
    },
    {
      "cell_type": "code",
      "source": [
        "import pandas as pd\n",
        "\n",
        "data = {\n",
        "    \"이름\": [\"김철수\", \"이영희\", \"박민수\", \"최지훈\", \"정소희\"],\n",
        "    \"학년\": [1, 2, 3, 4, 2],\n",
        "    \"학점\": [4.2, 3.8, 4.5, 3.9, 3.5],\n",
        "    \"학과\": [\"컴퓨터공학\", \"경영학\", \"전자공학\", \"의학\", \"심리학\"],\n",
        "    \"동아리\": [\"프로그래밍\", \"독서토론\", \"로봇공학\", \"봉사활동\", \"음악감상\"]\n",
        "}\n",
        "\n",
        "## Dataframe 생성\n",
        "df=pd.DataFrame(data)\n",
        "## CSV, JSON 형식으로 저장\n",
        "df.to_csv('studnets_scores.csv')\n",
        "df.to_json('students_scores.json')\n",
        "## HTML 형식으로 저장\n",
        "html_table=df.to_html()\n",
        "with open('students_scores.html','w')as f:\n",
        "    f.write(html_table)"
      ],
      "metadata": {
        "id": "_dqoWCRoXDrJ"
      },
      "execution_count": null,
      "outputs": []
    },
    {
      "cell_type": "markdown",
      "source": [
        "## 5-6 실습 시나리오"
      ],
      "metadata": {
        "id": "ifBFAyulsdJb"
      }
    },
    {
      "cell_type": "markdown",
      "source": [
        "## 데이터 수집"
      ],
      "metadata": {
        "id": "muFj6okKyXy6"
      }
    },
    {
      "cell_type": "code",
      "source": [
        "import requests\n",
        "\n",
        "url = \"http://apis.data.go.kr/B552584/ArpltnInforInqireSvc/getMinuDustFrcstDspth\"\n",
        "api_key = '6f504962566872**************4e'\n",
        "\n",
        "params = {\n",
        "    'serviceKey': api_key,\n",
        "    'returnType': 'json',\n",
        "    'numOfRows': '100',\n",
        "    'pageNo': '1',\n",
        "    'sidoName': '서울',\n",
        "    'ver': '1.0'\n",
        "}\n",
        "\n",
        "## 데이터 수집\n",
        "response = requests.get(url, params=params)\n",
        "\n",
        "## 호출 성공/실패 출력\n",
        "print(repsonse.json())\n",
        "\n"
      ],
      "metadata": {
        "id": "7yCozmQeXJcO"
      },
      "execution_count": null,
      "outputs": []
    },
    {
      "cell_type": "markdown",
      "source": [
        "서울시 공공데이타 가져오기"
      ],
      "metadata": {
        "id": "yHiryTWr_qnX"
      }
    },
    {
      "cell_type": "code",
      "source": [
        "import requests\n",
        "import pandas as pd\n",
        "import json\n",
        "\n",
        "url = 'http://openapi.seoul.go.kr:8088/5a6d4349626*******67556/json/energyUseDataSummaryInfo/1/5/2025/01/'\n",
        "# api_key = '5a6d************70467556'\n",
        "\n",
        "# url = \"http://openapi.seoul.go.kr:8088/api_key/json/energyUseDataSummaryInfo/1/5/2025/01/\"\n",
        "# api_key = '6f504962*************b594e'\n",
        "\n",
        "params = {\n",
        "    'serviceKey': api_key,\n",
        "    'returnType': 'json',\n",
        "    'numOfRows': '100',\n",
        "    'pageNo': '1',\n",
        "    'sidoName': '서울',\n",
        "    'ver': '1.0'\n",
        "}\n",
        "\n",
        "## 데이터 수집\n",
        "response = requests.get(url, params=params)\n",
        "\n",
        "## 호출 성공/실패 출력\n",
        "print(response.json())\n",
        "# print(type(response))\n",
        "\n",
        "\n",
        "\n",
        "# Extract JSON data from the response object\n",
        "json_data = response.json()\n",
        "\n",
        "## DataFrame을 이용한 저장\n",
        "df = pd.DataFrame([json_data])\n",
        "df.to_json('output_df.json', orient='records', indent=4, force_ascii=False)\n",
        "\n"
      ],
      "metadata": {
        "colab": {
          "base_uri": "https://localhost:8080/"
        },
        "id": "aaz1G0n68MBc",
        "outputId": "67d02320-3554-4923-8573-f8eb20249e24"
      },
      "execution_count": null,
      "outputs": [
        {
          "output_type": "stream",
          "name": "stdout",
          "text": [
            "{'energyUseDataSummaryInfo': {'list_total_count': 7, 'RESULT': {'CODE': 'INFO-000', 'MESSAGE': '정상 처리되었습니다'}, 'row': [{'YEAR': '2025', 'MON': '01', 'MM_TYPE': '개인', 'CNT': '1254911', 'EUS': '293836031', 'EUS1': '294950734', 'EUS2': '299856505', 'ECO2_1': '-3567588.5', 'ECO2_2': '-3390415.508', 'GUS': '64743317', 'GUS1': '65640270', 'GUS2': '70129681', 'GCO2_1': '-3112082', 'GCO2_2': '-6224164', 'WUS': '14290250.9', 'WUS1': '14349702.2', 'WUS2': '14658723.9', 'WCO2_1': '-213962.15', 'WCO2_2': '-343069.116', 'HUS': '26079633.15', 'HUS1': '26915271.488', 'HUS2': '28567284.736', 'HCO2_1': '-1661644.962', 'HCO2_2': '-1825469.852831888', 'REG_DATE': '2025-04-01 04:02:46.0'}, {'YEAR': '2025', 'MON': '01', 'MM_TYPE': '공공기관', 'CNT': '2458', 'EUS': '159137367', 'EUS1': '161224118', 'EUS2': '165177059', 'ECO2_1': '-4063221.5', 'ECO2_2': '-4063221.5', 'GUS': '5245062', 'GUS1': '6339106', 'GUS2': '6122197', 'GCO2_1': '-985669.5', 'GCO2_2': '-1971339', 'WUS': '1109496.9', 'WUS1': '1067063.3', 'WUS2': '1048332.2', 'WCO2_1': '51799.15', 'WCO2_2': '155397.45', 'HUS': '0', 'HUS1': '0', 'HUS2': '0', 'HCO2_1': '0', 'HCO2_2': '0', 'REG_DATE': '2025-04-01 04:02:46.0'}, {'YEAR': '2025', 'MON': '01', 'MM_TYPE': '공동주택관리소', 'CNT': '3717', 'EUS': '549306970', 'EUS1': '553171963', 'EUS2': '562732975', 'ECO2_1': '-8645499', 'ECO2_2': '-8645499', 'GUS': '12897492', 'GUS1': '13018588', 'GUS2': '14635031', 'GCO2_1': '-929317.5', 'GCO2_2': '-1858635', 'WUS': '19747538.2', 'WUS1': '19813169.6', 'WUS2': '19835823.1', 'WCO2_1': '-76958.15', 'WCO2_2': '-230874.45', 'HUS': '0', 'HUS1': '0', 'HUS2': '0', 'HCO2_1': '0', 'HCO2_2': '0', 'REG_DATE': '2025-04-01 04:02:46.0'}, {'YEAR': '2025', 'MON': '01', 'MM_TYPE': '종교단체', 'CNT': '849', 'EUS': '9663487', 'EUS1': '9820536', 'EUS2': '10044709', 'ECO2_1': '-269135.5', 'ECO2_2': '-269135.5', 'GUS': '538785', 'GUS1': '574357', 'GUS2': '665228', 'GCO2_1': '-80898', 'GCO2_2': '-161796', 'WUS': '45011', 'WUS1': '44737', 'WUS2': '44089', 'WCO2_1': '598', 'WCO2_2': '1794', 'HUS': '0', 'HUS1': '0', 'HUS2': '0', 'HCO2_1': '0', 'HCO2_2': '0', 'REG_DATE': '2025-04-01 04:02:46.0'}, {'YEAR': '2025', 'MON': '01', 'MM_TYPE': '기업', 'CNT': '19458', 'EUS': '624104890', 'EUS1': '643139445', 'EUS2': '659133378', 'ECO2_1': '-27031521.5', 'ECO2_2': '-27031521.5', 'GUS': '58727315', 'GUS1': '59074550', 'GUS2': '57721631', 'GCO2_1': '342601', 'GCO2_2': '685202', 'WUS': '4215302.2', 'WUS1': '4177674.4', 'WUS2': '4187370.8', 'WCO2_1': '32779.6', 'WCO2_2': '98338.8', 'HUS': '0', 'HUS1': '0', 'HUS2': '0', 'HCO2_1': '0', 'HCO2_2': '0', 'REG_DATE': '2025-04-01 04:02:46.0'}]}}\n"
          ]
        }
      ]
    },
    {
      "cell_type": "code",
      "source": [
        "# 서울시 에코마일리지 에너지사용량 통계정보 Open API를 활용하여 데이터를 수집하시오.\n",
        "#Python을 사용하여 API를 호출하는 코드를 작성하고, 2015년 1월부터 2024년 12월까지의 개인 유형의 현년 전기, 가스, 수도, 지역난방 에너지 사용량 데이터를 수집하는 프로그램을 작성하시오.\n"
      ],
      "metadata": {
        "id": "XJ5YMzwRIvRD"
      },
      "execution_count": null,
      "outputs": []
    },
    {
      "cell_type": "code",
      "source": [
        "def get_year_months():\n",
        "    year_months = []\n",
        "    for year in range(2015, 2024+1):\n",
        "        for month in range(1,12+1):\n",
        "            year_months.append(f'{year}{month:02d}')\n",
        "    return year_months\n",
        "\n",
        "responses = []\n",
        "\n",
        "for year_month in get_year_months():\n",
        "    print(year_month)\n",
        "print(type(year_month))\n",
        "# 데이터를 수집하고 responses에 추가"
      ],
      "metadata": {
        "colab": {
          "base_uri": "https://localhost:8080/"
        },
        "id": "3xgZX5THAWH6",
        "outputId": "2b869dc7-f076-4e1a-932e-7eea2771217c"
      },
      "execution_count": null,
      "outputs": [
        {
          "output_type": "stream",
          "name": "stdout",
          "text": [
            "201501\n",
            "201502\n",
            "201503\n",
            "201504\n",
            "201505\n",
            "201506\n",
            "201507\n",
            "201508\n",
            "201509\n",
            "201510\n",
            "201511\n",
            "201512\n",
            "201601\n",
            "201602\n",
            "201603\n",
            "201604\n",
            "201605\n",
            "201606\n",
            "201607\n",
            "201608\n",
            "201609\n",
            "201610\n",
            "201611\n",
            "201612\n",
            "201701\n",
            "201702\n",
            "201703\n",
            "201704\n",
            "201705\n",
            "201706\n",
            "201707\n",
            "201708\n",
            "201709\n",
            "201710\n",
            "201711\n",
            "201712\n",
            "201801\n",
            "201802\n",
            "201803\n",
            "201804\n",
            "201805\n",
            "201806\n",
            "201807\n",
            "201808\n",
            "201809\n",
            "201810\n",
            "201811\n",
            "201812\n",
            "201901\n",
            "201902\n",
            "201903\n",
            "201904\n",
            "201905\n",
            "201906\n",
            "201907\n",
            "201908\n",
            "201909\n",
            "201910\n",
            "201911\n",
            "201912\n",
            "202001\n",
            "202002\n",
            "202003\n",
            "202004\n",
            "202005\n",
            "202006\n",
            "202007\n",
            "202008\n",
            "202009\n",
            "202010\n",
            "202011\n",
            "202012\n",
            "202101\n",
            "202102\n",
            "202103\n",
            "202104\n",
            "202105\n",
            "202106\n",
            "202107\n",
            "202108\n",
            "202109\n",
            "202110\n",
            "202111\n",
            "202112\n",
            "202201\n",
            "202202\n",
            "202203\n",
            "202204\n",
            "202205\n",
            "202206\n",
            "202207\n",
            "202208\n",
            "202209\n",
            "202210\n",
            "202211\n",
            "202212\n",
            "202301\n",
            "202302\n",
            "202303\n",
            "202304\n",
            "202305\n",
            "202306\n",
            "202307\n",
            "202308\n",
            "202309\n",
            "202310\n",
            "202311\n",
            "202312\n",
            "202401\n",
            "202402\n",
            "202403\n",
            "202404\n",
            "202405\n",
            "202406\n",
            "202407\n",
            "202408\n",
            "202409\n",
            "202410\n",
            "202411\n",
            "202412\n",
            "<class 'str'>\n"
          ]
        }
      ]
    },
    {
      "cell_type": "code",
      "source": [
        "import requests\n",
        "import pandas as pd\n",
        "\n",
        "\n",
        "# # url 및 api key 설정\n",
        "# url = 'http://openapi.seoul.go.kr:8088/5a6*********364a70467556/json/energyUseDataSummaryInfo/1/5/'\n",
        "# api_key = '5a6d43***********a70467556'\n",
        "\n",
        "http://openapi.seoul.go.kr:8088/sample/xml/energyUseDataSummaryInfo/1/5/2015/1/\n",
        "http://openapi.seoul.go.kr:8088/sample/xml/energyUseDataSummaryInfo/1/5/%20/%20/\n",
        "# url 및 api key 설정\n",
        "url = 'http://openapi.seoul.go.kr:8088/5a6d4*************0467556/json/energyUseDataSummaryInfo/1/5/'\n",
        "api_key = '5a6d*************67556'\n",
        "\n",
        "# 날짜 범위 잡기\n",
        "for year in range(2015,2025):\n",
        "    for month in range(1,13):\n",
        "        date = f'{year}/{month:02d}'\n",
        "        new_url = f'{url}{date}'\n",
        "        response = requests.get(new_url)\n",
        "\n",
        "\n",
        "# 호출 성공/실패 출력\n",
        "print(response.json())\n",
        "\n",
        "data = response.json()['energyUseDataSummaryInfo']['row']\n",
        "df = pd.DataFrame(data)\n",
        "\n",
        "print(df)\n"
      ],
      "metadata": {
        "id": "adO2oLKE147k"
      },
      "execution_count": null,
      "outputs": []
    },
    {
      "cell_type": "markdown",
      "source": [
        "## 데이터 프레임 생성"
      ],
      "metadata": {
        "id": "d6mT4IxkySzI"
      }
    },
    {
      "cell_type": "code",
      "source": [
        "import pandas as pd\n",
        "\n",
        "## requests로부터 response, body, item 항목 읽기\n",
        "data = response.json()['response']['body']['items']\n",
        "df=pd.DataFrame(data)\n",
        "df['pm25Grade']\n",
        "\n",
        "\n"
      ],
      "metadata": {
        "id": "HOOo9qTsXLkB"
      },
      "execution_count": null,
      "outputs": []
    },
    {
      "cell_type": "markdown",
      "source": [
        "## 다양항 형식으로 데이터 저장\n"
      ],
      "metadata": {
        "id": "vVG0HYb0ymeM"
      }
    },
    {
      "cell_type": "code",
      "source": [
        "df.to_csv('air_pollution.csv', index=False, encoding='utf-8')\n",
        "\n",
        "## JSON 형식 데이터 저장\n",
        "df.to_json('air_pollution.json', indent=4, force_ascii=False)\n",
        "\n",
        "## EXCEL 형식 데이터 저장\n",
        "df.to_excel('air_pollution.xlsx', index=False)\n",
        "## HTML 형식 데이터 저장\n",
        "df.to_html('air_pollution.html')\n",
        "\n",
        "\n",
        "\n"
      ],
      "metadata": {
        "id": "HW1ZodpgXNhG"
      },
      "execution_count": null,
      "outputs": []
    }
  ]
}